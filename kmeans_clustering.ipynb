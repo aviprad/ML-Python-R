{
  "nbformat": 4,
  "nbformat_minor": 0,
  "metadata": {
    "colab": {
      "name": "Copy of Copy of k_means_clustering.ipynb",
      "provenance": [],
      "collapsed_sections": []
    },
    "kernelspec": {
      "name": "python3",
      "display_name": "Python 3"
    }
  },
  "cells": [
    {
      "cell_type": "markdown",
      "metadata": {
        "id": "i_paGd_yLbgH",
        "colab_type": "text"
      },
      "source": [
        "# K-Means Clustering"
      ]
    },
    {
      "cell_type": "markdown",
      "metadata": {
        "id": "QS0nI9rSjZQe",
        "colab_type": "text"
      },
      "source": [
        "**Importing Libraries**"
      ]
    },
    {
      "cell_type": "code",
      "metadata": {
        "id": "T7-787jZnPwB",
        "colab_type": "code",
        "colab": {}
      },
      "source": [
        "import numpy as np\n",
        "import matplotlib.pyplot as plt\n",
        "import pandas as pd"
      ],
      "execution_count": 0,
      "outputs": []
    },
    {
      "cell_type": "markdown",
      "metadata": {
        "id": "nAuqPwTnLipr",
        "colab_type": "text"
      },
      "source": [
        "## Importing the dataset"
      ]
    },
    {
      "cell_type": "code",
      "metadata": {
        "id": "oL4HwwESnY5o",
        "colab_type": "code",
        "colab": {
          "base_uri": "https://localhost:8080/",
          "height": 136
        },
        "outputId": "362a2432-3464-465b-e355-8d240e88714c"
      },
      "source": [
        "data = pd.read_csv(\"Movies.Rating.csv\")\n",
        "x = data.iloc[:,1:3].values\n",
        "print(x)"
      ],
      "execution_count": 10,
      "outputs": [
        {
          "output_type": "stream",
          "text": [
            "[[87 81]\n",
            " [ 9 44]\n",
            " [30 52]\n",
            " ...\n",
            " [89 73]\n",
            " [90 87]\n",
            " [14 42]]\n"
          ],
          "name": "stdout"
        }
      ]
    },
    {
      "cell_type": "markdown",
      "metadata": {
        "id": "nWC2EWp2Lx5G",
        "colab_type": "text"
      },
      "source": [
        "## Using the elbow method to find the optimal number of clusters"
      ]
    },
    {
      "cell_type": "code",
      "metadata": {
        "id": "iNi6m2m0nrjQ",
        "colab_type": "code",
        "colab": {
          "base_uri": "https://localhost:8080/",
          "height": 295
        },
        "outputId": "cba0d3b5-58e3-4485-e151-6bdea0ead543"
      },
      "source": [
        "from sklearn.cluster import KMeans\n",
        "wcss = []\n",
        "for i in range(1,11):\n",
        "  kmeans = KMeans(n_clusters = i, init = \"k-means++\", random_state = 42, max_iter = 25)\n",
        "  kmeans.fit(x)\n",
        "  wcss.append(kmeans.inertia_)\n",
        "plt.plot(range(1,11), wcss)\n",
        "plt.xlabel(\"budget\")\n",
        "plt.ylabel(\"rating\")\n",
        "plt.title(\"Clustering roten tomato wise\")\n",
        "plt.show()"
      ],
      "execution_count": 16,
      "outputs": [
        {
          "output_type": "display_data",
          "data": {
            "image/png": "[encoded data removed]",
            "text/plain": [
              "<Figure size 432x288 with 1 Axes>"
            ]
          },
          "metadata": {
            "tags": [],
            "needs_background": "light"
          }
        }
      ]
    },
    {
      "cell_type": "markdown",
      "metadata": {
        "id": "VgT0mANLL4Nz",
        "colab_type": "text"
      },
      "source": [
        "## Training the K-Means model on the dataset"
      ]
    },
    {
      "cell_type": "code",
      "metadata": {
        "id": "DbKljEWkqfQ5",
        "colab_type": "code",
        "colab": {
          "base_uri": "https://localhost:8080/",
          "height": 289
        },
        "outputId": "b473327f-ebc3-4972-a568-5b236cd13ae9"
      },
      "source": [
        "kmeans = KMeans(n_clusters = 6, init = \"k-means++\", max_iter= 24, random_state=42)\n",
        "y_kmeans = kmeans.fit_predict(x)\n",
        "print(y_kmeans)"
      ],
      "execution_count": 17,
      "outputs": [
        {
          "output_type": "stream",
          "text": [
            "[2 1 4 2 3 4 4 0 0 2 1 2 1 5 5 1 3 5 0 3 1 1 1 4 1 2 2 3 1 5 0 1 3 2 3 5 1\n",
            " 0 5 1 0 5 1 4 2 5 4 2 5 3 1 2 0 3 5 5 4 5 2 1 1 5 3 0 2 0 1 5 1 4 1 4 5 1\n",
            " 4 1 0 5 2 5 1 1 5 5 4 0 4 5 0 0 3 1 0 1 2 3 2 0 0 2 5 1 1 1 1 2 0 4 0 1 4\n",
            " 2 0 2 1 4 0 5 0 4 3 1 4 4 2 0 5 1 0 1 1 5 4 2 4 4 5 5 4 5 1 1 4 1 5 3 4 5\n",
            " 1 0 1 2 1 3 5 2 1 1 3 0 4 1 4 5 3 3 2 2 2 4 2 3 3 4 3 0 5 0 2 5 4 1 5 2 4\n",
            " 0 0 4 3 4 2 5 2 0 5 2 2 2 3 3 1 2 0 4 1 5 1 2 4 0 2 1 1 5 0 2 4 1 0 1 0 1\n",
            " 4 1 4 3 1 1 2 0 1 0 5 4 1 4 3 2 3 1 1 1 1 2 2 4 1 5 2 2 0 0 5 3 0 3 1 1 3\n",
            " 1 2 3 5 4 1 5 1 4 1 5 4 4 0 0 4 2 4 0 1 4 0 1 3 1 4 1 3 1 3 1 4 4 5 1 5 1\n",
            " 5 4 3 0 3 5 3 4 3 5 1 5 1 1 4 1 1 1 5 0 0 5 4 3 5 1 3 4 1 4 2 4 2 4 3 1 4\n",
            " 4 2 3 1 1 4 3 1 3 2 1 3 2 3 5 3 1 3 1 0 5 1 1 0 3 2 4 5 1 2 2 3 4 3 0 0 1\n",
            " 4 1 5 2 2 1 0 0 1 2 3 4 0 4 3 5 2 2 1 2 5 4 3 1 2 0 3 4 3 4 3 3 5 3 5 3 2\n",
            " 1 5 2 1 3 0 4 1 2 4 3 4 2 0 0 2 4 1 1 1 1 2 1 4 2 2 3 5 0 0 0 0 3 2 3 3 1\n",
            " 5 4 2 0 0 1 4 0 0 5 1 2 4 4 5 1 3 1 1 5 1 0 0 3 2 1 3 4 4 1 1 0 0 3 4 1 4\n",
            " 1 5 3 4 4 1 4 2 0 1 1 2 2 5 4 1 5 3 3 4 4 4 1 3 2 2 3 4 1 0 0 5 4 0 2 1 2\n",
            " 0 1 3 1 3 4 2 0 1 2 5 0 5 2 2 3 3 3 3 4 4 1 3 1 5 2 1 4 4 2 4 2 1 3 1 1 0\n",
            " 0 1 5 3 2 2 1]\n"
          ],
          "name": "stdout"
        }
      ]
    },
    {
      "cell_type": "code",
      "metadata": {
        "id": "QBfjg-llq_p5",
        "colab_type": "code",
        "colab": {
          "base_uri": "https://localhost:8080/",
          "height": 255
        },
        "outputId": "a2f554b2-7d57-4f9e-efc7-52acfad89fd4"
      },
      "source": [
        "df = pd.DataFrame(data)\n",
        "df[\"y_kmeans\"] = y_kmeans\n",
        "print(df)"
      ],
      "execution_count": 22,
      "outputs": [
        {
          "output_type": "stream",
          "text": [
            "                           Film  ...  y_kmeans\n",
            "0         (500) Days of Summer   ...         2\n",
            "1                   10,000 B.C.  ...         1\n",
            "2                    12 Rounds   ...         4\n",
            "3                     127 Hours  ...         2\n",
            "4                     17 Again   ...         3\n",
            "..                          ...  ...       ...\n",
            "557             Youth in Revolt  ...         5\n",
            "558  Zack and Miri Make a Porno  ...         3\n",
            "559                      Zodiac  ...         2\n",
            "560                 Zombieland   ...         2\n",
            "561                   Zookeeper  ...         1\n",
            "\n",
            "[562 rows x 5 columns]\n"
          ],
          "name": "stdout"
        }
      ]
    },
    {
      "cell_type": "code",
      "metadata": {
        "id": "XfZHJY1nsI9p",
        "colab_type": "code",
        "colab": {}
      },
      "source": [
        "df.to_csv(r\"rating_output.csv\")"
      ],
      "execution_count": 0,
      "outputs": []
    }
  ]
}