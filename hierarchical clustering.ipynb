{
  "nbformat": 4,
  "nbformat_minor": 0,
  "metadata": {
    "colab": {
      "name": "Untitled1.ipynb",
      "provenance": [],
      "collapsed_sections": [],
      "toc_visible": true
    },
    "kernelspec": {
      "name": "python3",
      "display_name": "Python 3"
    }
  },
  "cells": [
    {
      "cell_type": "markdown",
      "metadata": {
        "id": "37P8szvKE_wA",
        "colab_type": "text"
      },
      "source": [
        "# ***Hierarchical clustering***"
      ]
    },
    {
      "cell_type": "markdown",
      "metadata": {
        "id": "6MuBofdqFdBR",
        "colab_type": "text"
      },
      "source": [
        "# ***Importing Libraries***"
      ]
    },
    {
      "cell_type": "code",
      "metadata": {
        "id": "jCLai1f0Fg9w",
        "colab_type": "code",
        "colab": {}
      },
      "source": [
        "import numpy as np\n",
        "import matplotlib.pyplot as plt\n",
        "import pandas as pd"
      ],
      "execution_count": 0,
      "outputs": []
    },
    {
      "cell_type": "markdown",
      "metadata": {
        "id": "6__Urw_TFuQ_",
        "colab_type": "text"
      },
      "source": [
        "# ***Importing data set***"
      ]
    },
    {
      "cell_type": "code",
      "metadata": {
        "id": "PC0ocW53FySs",
        "colab_type": "code",
        "colab": {}
      },
      "source": [
        "data = pd.read_csv(\"dataset_Facebook.csv\")\n",
        "x = data.iloc[:, 6:19].values"
      ],
      "execution_count": 0,
      "outputs": []
    },
    {
      "cell_type": "code",
      "metadata": {
        "id": "4VrdWw3DGeCc",
        "colab_type": "code",
        "colab": {
          "base_uri": "https://localhost:8080/",
          "height": 136
        },
        "outputId": "b7909686-4dbd-435a-d706-a9248d4acdbc"
      },
      "source": [
        "print(x)"
      ],
      "execution_count": 4,
      "outputs": [
        {
          "output_type": "stream",
          "text": [
            "[[0.0000e+00 2.7520e+03 5.0910e+03 ... 7.9000e+01 1.7000e+01 1.0000e+02]\n",
            " [0.0000e+00 1.0460e+04 1.9057e+04 ... 1.3000e+02 2.9000e+01 1.6400e+02]\n",
            " [0.0000e+00 2.4130e+03 4.3730e+03 ... 6.6000e+01 1.4000e+01 8.0000e+01]\n",
            " ...\n",
            " [0.0000e+00 3.7780e+03 7.2160e+03 ... 9.3000e+01 1.8000e+01 1.1500e+02]\n",
            " [0.0000e+00 4.1560e+03 7.5640e+03 ... 9.1000e+01 3.8000e+01 1.3600e+02]\n",
            " [       nan 4.1880e+03 7.2920e+03 ... 9.1000e+01 2.8000e+01 1.1900e+02]]\n"
          ],
          "name": "stdout"
        }
      ]
    },
    {
      "cell_type": "markdown",
      "metadata": {
        "id": "z10VqESpIulh",
        "colab_type": "text"
      },
      "source": [
        "# ***Handle Missing Data***"
      ]
    },
    {
      "cell_type": "code",
      "metadata": {
        "id": "z78mDB2TIyoM",
        "colab_type": "code",
        "colab": {}
      },
      "source": [
        "from sklearn.impute import SimpleImputer\n",
        "imputer = SimpleImputer(missing_values = np.nan, strategy = \"mean\")\n",
        "imputer.fit(x)\n",
        "x = imputer.transform(x)"
      ],
      "execution_count": 0,
      "outputs": []
    },
    {
      "cell_type": "markdown",
      "metadata": {
        "id": "NJzs-FclGoAg",
        "colab_type": "text"
      },
      "source": [
        "# ***Creating Dendrogram for getting optimal number of cluster***"
      ]
    },
    {
      "cell_type": "code",
      "metadata": {
        "id": "ItvmBt3uG1Wh",
        "colab_type": "code",
        "colab": {
          "base_uri": "https://localhost:8080/",
          "height": 295
        },
        "outputId": "b9f0b04a-af02-494a-ad79-bbc423ccb8d8"
      },
      "source": [
        "import scipy.cluster.hierarchy as sch\n",
        "dendrogram = sch.dendrogram(sch.linkage(x, method = \"ward\", metric = \"euclidean\", optimal_ordering = False))\n",
        "plt.title(\"facebook likes\")\n",
        "plt.xlabel(\"customers\")\n",
        "plt.ylabel(\"euclidean distance\")\n",
        "plt.show()"
      ],
      "execution_count": 15,
      "outputs": [
        {
          "output_type": "display_data",
          "data": {
            "image/png": "[encoded data removed]",
            "text/plain": [
              "<Figure size 432x288 with 1 Axes>"
            ]
          },
          "metadata": {
            "tags": [],
            "needs_background": "light"
          }
        }
      ]
    },
    {
      "cell_type": "markdown",
      "metadata": {
        "id": "0Mkg4L7GKoEB",
        "colab_type": "text"
      },
      "source": [
        "# ***Applying the Hierarchical clustering***"
      ]
    },
    {
      "cell_type": "code",
      "metadata": {
        "id": "1o3xQm6DKv28",
        "colab_type": "code",
        "colab": {}
      },
      "source": [
        "from sklearn.cluster import AgglomerativeClustering\n",
        "hc = AgglomerativeClustering(n_clusters = 7, linkage = \"ward\", affinity = \"euclidean\")\n",
        "y_hc = hc.fit_predict(x)"
      ],
      "execution_count": 0,
      "outputs": []
    },
    {
      "cell_type": "code",
      "metadata": {
        "id": "3fvYvuGxLWOU",
        "colab_type": "code",
        "colab": {
          "base_uri": "https://localhost:8080/",
          "height": 255
        },
        "outputId": "cd99b48a-2127-48da-fa92-6eb64ad7ce93"
      },
      "source": [
        "print(y_hc)"
      ],
      "execution_count": 21,
      "outputs": [
        {
          "output_type": "stream",
          "text": [
            "[6 3 6 0 6 3 3 3 3 6 0 6 6 6 0 3 6 0 6 6 6 6 6 6 3 3 3 6 3 0 6 6 6 6 6 6 6\n",
            " 3 3 6 3 3 3 6 6 6 3 6 6 6 6 3 6 6 6 3 6 6 6 0 3 0 3 0 6 6 6 0 6 6 0 1 3 3\n",
            " 3 0 6 3 6 6 3 6 6 6 6 6 3 6 6 6 3 6 6 6 6 6 6 6 3 3 6 0 6 6 6 0 6 3 6 3 6\n",
            " 6 6 6 6 6 0 6 6 6 6 3 6 6 6 6 6 6 6 6 6 6 6 6 6 6 6 6 3 6 1 3 0 3 0 6 3 6\n",
            " 3 6 0 6 6 3 6 6 6 6 6 6 3 6 6 3 6 6 3 3 0 6 6 6 0 6 6 3 3 6 6 6 3 3 6 0 6\n",
            " 6 6 6 6 6 6 3 6 6 0 6 6 6 6 0 6 6 3 1 6 6 0 6 6 6 0 6 6 6 3 0 6 3 3 6 6 6\n",
            " 3 3 6 3 6 1 3 6 6 6 3 6 6 3 3 6 6 6 3 6 3 3 1 0 6 6 6 6 6 3 6 3 0 6 0 0 6\n",
            " 6 6 3 6 6 0 6 6 3 6 6 0 0 0 6 6 3 6 1 6 1 6 6 3 3 0 3 6 3 3 6 6 6 6 6 6 3\n",
            " 6 6 6 3 6 6 0 3 0 6 6 6 3 6 6 6 6 6 0 0 6 6 6 3 3 6 6 0 6 6 6 6 0 6 3 6 6\n",
            " 6 3 6 6 6 6 3 6 6 6 6 3 6 0 6 6 0 6 6 0 3 6 6 6 6 6 6 6 6 3 6 0 6 6 6 3 6\n",
            " 0 3 3 3 6 3 6 6 0 0 1 6 6 6 6 6 3 6 3 6 6 0 3 6 6 6 6 0 6 6 6 0 0 0 6 6 6\n",
            " 6 0 6 6 6 6 6 6 4 3 6 6 6 6 6 6 6 3 6 6 3 6 6 6 6 6 3 6 3 3 2 6 6 6 6 1 6\n",
            " 6 6 0 3 3 1 3 6 6 6 3 3 6 3 6 6 5 6 3 2 2 6 6 0 3 3 3 6 6 6 3 6 3 3 6 6 3\n",
            " 6 3 6 6 6 6 6 3 6 6 6 3 3 6 6 6 6 6 6]\n"
          ],
          "name": "stdout"
        }
      ]
    },
    {
      "cell_type": "markdown",
      "metadata": {
        "id": "2ejeZXCOLnC5",
        "colab_type": "text"
      },
      "source": [
        "# **Combining the data with the cluster column**"
      ]
    },
    {
      "cell_type": "code",
      "metadata": {
        "id": "wj_zfVd6Ls1J",
        "colab_type": "code",
        "colab": {
          "base_uri": "https://localhost:8080/",
          "height": 255
        },
        "outputId": "c77435a8-7e37-452a-c529-861f1b03ca8b"
      },
      "source": [
        "df = pd.DataFrame(data)\n",
        "df[\"cluster\"] = y_hc\n",
        "print(df)"
      ],
      "execution_count": 22,
      "outputs": [
        {
          "output_type": "stream",
          "text": [
            "     Page total likes    Type  Category  ...  share  Total Interactions  cluster\n",
            "0              139441   Photo         2  ...   17.0                 100        6\n",
            "1              139441  Status         2  ...   29.0                 164        3\n",
            "2              139441   Photo         3  ...   14.0                  80        6\n",
            "3              139441   Photo         2  ...  147.0                1777        0\n",
            "4              139441   Photo         2  ...   49.0                 393        6\n",
            "..                ...     ...       ...  ...    ...                 ...      ...\n",
            "495             85093   Photo         3  ...   26.0                  84        6\n",
            "496             81370   Photo         2  ...   22.0                  75        6\n",
            "497             81370   Photo         1  ...   18.0                 115        6\n",
            "498             81370   Photo         3  ...   38.0                 136        6\n",
            "499             81370   Photo         2  ...   28.0                 119        6\n",
            "\n",
            "[500 rows x 20 columns]\n"
          ],
          "name": "stdout"
        }
      ]
    },
    {
      "cell_type": "markdown",
      "metadata": {
        "id": "nfOlNbu_L_z6",
        "colab_type": "text"
      },
      "source": [
        "# **Importing the new data**"
      ]
    },
    {
      "cell_type": "code",
      "metadata": {
        "id": "AhRilneHMEh9",
        "colab_type": "code",
        "colab": {}
      },
      "source": [
        "df.to_csv(r\"hierarchical clustering_facebook likes.csv\")"
      ],
      "execution_count": 0,
      "outputs": []
    }
  ]
}